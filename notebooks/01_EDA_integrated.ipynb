{
 "cells": [
  {
   "metadata": {},
   "cell_type": "markdown",
   "source": "<a href=\"https://colab.research.google.com/github/knirpsgraph/ada_portoSeguro/blob/main/notebooks/01_EDA_integrated.ipynb\" target=\"_parent\"><img src=\"https://colab.research.google.com/assets/colab-badge.svg\" alt=\"Open In Colab\"/></a>"
  },
  {
   "metadata": {},
   "cell_type": "code",
   "outputs": [],
   "execution_count": null,
   "source": [
    "import pandas as pd\n",
    "import matplotlib.pyplot as plt\n",
    "import seaborn as sns\n",
    "import numpy as np\n",
    "import os\n",
    "from sklearn.datasets import fetch_openml\n",
    "\n",
    "from src.data_loader import load_and_save_data\n",
    "from src import theme\n",
    "\n",
    "try:\n",
    "    import missingno as msno\n",
    "    MISSINGNO_AVAILABLE = True\n",
    "except ImportError:\n",
    "    MISSINGNO_AVAILABLE = False\n",
    "\n",
    "theme.set_project_theme()\n",
    "\n",
    "# Globale Variablen für 'missingno'\n",
    "FIGSIZE_MISSINGNO = (20, 8)\n",
    "FONTSIZE_MISSINGNO = 14\n",
    "\n",
    "f\"Pandas version: {pd.__version__}\""
   ]
  },
  {
   "metadata": {},
   "cell_type": "code",
   "outputs": [],
   "execution_count": null,
   "source": [
    "# === Zelle 1: Imports und Setup ===\n",
    "import pandas as pd\n",
    "import matplotlib.pyplot as plt\n",
    "import seaborn as sns\n",
    "import numpy as np\n",
    "import os\n",
    "from pathlib import Path\n",
    "import missingno as msno\n",
    "\n",
    "# Passe den Pfad an, um aus dem src-Verzeichnis zu importieren\n",
    "import sys\n",
    "CWD = Path.cwd()\n",
    "ROOT = CWD.parent if CWD.name == 'notebooks' else CWD\n",
    "sys.path.insert(0, str(ROOT))\n",
    "\n",
    "from src.data_loader import load_and_save_data\n",
    "from src import theme\n",
    "\n",
    "theme.set_project_theme()\n",
    "\n",
    "# Globale Variablen für 'missingno'\n",
    "FIGSIZE_MISSINGNO = (20, 8)\n",
    "FONTSIZE_MISSINGNO = 14"
   ]
  },
  {
   "metadata": {},
   "cell_type": "markdown",
   "source": [
    "# Porto Seguro´s Safe Driver Prediction\n",
    "Download URL and Informationen über Daten: www.openml.org/search?type=data&status=active&id=42742\n",
    "Informationen über den Datensatz aus einer Kaggel Competition im Jahr 2017: https://www.kaggle.com/c/porto-seguro-safe-driver-prediction\n"
   ]
  },
  {
   "metadata": {},
   "cell_type": "markdown",
   "source": "## Download"
  },
  {
   "metadata": {},
   "cell_type": "code",
   "outputs": [],
   "execution_count": null,
   "source": [
    "print(\"Die Daten werden geladen\")\n",
    "df=load_and_save_data()"
   ]
  },
  {
   "metadata": {},
   "cell_type": "code",
   "outputs": [],
   "execution_count": null,
   "source": [
    "print(\"Überblick über den Datensatz\")\n",
    "print(df.head())\n",
    "print(\"\\nDimensionen des Datensatzes:\", df.shape)\n",
    "df.info()"
   ]
  },
  {
   "metadata": {},
   "cell_type": "code",
   "outputs": [],
   "execution_count": null,
   "source": [
    "plt.figure(figsize=theme.FIGSIZE_SMALL)\n",
    "sns.countplot(x='target', data=df)\n",
    "\n",
    "plt.title('Anspruch auf Schadensregulierung')\n",
    "plt.xlabel('Anspruch auf Schadensregulierung (0: Nein, 1: Ja)')\n",
    "plt.ylabel('Anzahl der Fälle')\n",
    "plt.show()\n",
    "\n",
    "target_counts = df['target'].value_counts()\n",
    "print(\"\\nAnzahl der Fälle pro Klasse:\")\n",
    "print(target_counts)\n",
    "print(f\"Prozentsatz der Fälle mit Anspruch: {target_counts[1] / len(df) * 100:.2f}%\")\n"
   ]
  },
  {
   "metadata": {},
   "cell_type": "markdown",
   "source": [
    "## Explorative Data Analysis (EDA)\n",
    "### Task\n",
    "Predict whether a driver will initiate an auto insurance claim in the next year.\n",
    "\n",
    "### Information about Data\n",
    "- missing values are coded with -1\n",
    "- 595212 cases\n",
    "- 58 features"
   ]
  },
  {
   "metadata": {},
   "cell_type": "markdown",
   "source": "### Missing Values"
  },
  {
   "metadata": {},
   "cell_type": "code",
   "outputs": [],
   "execution_count": null,
   "source": [
    "   if MISSINGNO_AVAILABLE:\n",
    "        print(\"\\nVisualisierung der fehlenden Daten als Matrix (Muster):\")\n",
    "        missing_value_columns = df.columns[df.isnull().any()].tolist()\n",
    "        df_missing = df[missing_value_columns]\n",
    "        sorted_data = msno.nullity_sort(df_missing, sort='descending')\n",
    "        msno.matrix(sorted_data, figsize=FIGSIZE_MISSINGNO, fontsize=FONTSIZE_MISSINGNO, color=(0.25, 0.25, 0.25))\n",
    "        plt.title('Muster der fehlenden Daten', fontsize=theme.TITLE_FONTSIZE)\n",
    "        plt.show()\n",
    "\n",
    "   missing_values_total = df.isnull().sum()\n",
    "   missing_values_percentage = (missing_values_total[missing_values_total > 0] / len(df)) * 100\n",
    "   if not missing_values_percentage.empty:\n",
    "        plt.figure(figsize=theme.FIGSIZE_SMALL)\n",
    "        sns.barplot(x=missing_values_percentage.index, y=missing_values_percentage.values)\n",
    "        plt.xticks(rotation=90)\n",
    "        plt.title('Prozentualer Anteil fehlender Werte pro Spalte', fontsize=theme.TITLE_FONTSIZE)\n",
    "        plt.xlabel('Spalten', fontsize=theme.LABEL_FONTSIZE)\n",
    "        plt.ylabel('Fehlende Werte (%)', fontsize=theme.LABEL_FONTSIZE)\n",
    "        plt.show()\n"
   ]
  },
  {
   "metadata": {},
   "cell_type": "markdown",
   "source": ""
  },
  {
   "metadata": {},
   "cell_type": "code",
   "outputs": [],
   "execution_count": null,
   "source": [
    "# Analyse und Visualisierung der Features\n",
    "cat_features_all = [col for col in df.columns if '_cat' in col or '_bin' in col]\n",
    "cont_features = [col for col in df.columns if '_cat' not in col and '_bin' not in col and col != 'target']\n",
    "\n",
    "cat_cardinality = df[cat_features_all].nunique().sort_values()\n",
    "\n",
    "# Wähle die Top 5 Features mit der geringsten Anzahl an Kategorien als Beispiele aus\n",
    "example_cat_features = cat_cardinality.head(5).index.tolist()\n",
    "\n",
    "\n",
    "print(f\"Es wurden {len(cat_features_all)} kategoriale/binäre und {len(cont_features)} kontinuierliche Features gefunden.\")\n",
    "print(f\"Dynamisch ausgewählte Beispiele für die Visualisierung: {example_cat_features}\")"
   ]
  },
  {
   "metadata": {},
   "cell_type": "code",
   "outputs": [],
   "execution_count": null,
   "source": [
    "print(\"\\nVisualisierung der Verteilung ausgewählter kategorialer Features:\")\n",
    "for col in example_cat_features:\n",
    "    if col in df.columns:\n",
    "        plt.figure(figsize=theme.FIGSIZE_SMALL)\n",
    "        sns.countplot(x=col, hue='target', data=df)\n",
    "        plt.title(f'Verteilung von {col} nach Zielvariable')\n",
    "        plt.xlabel(col)\n",
    "        plt.ylabel('Anzahl der Fälle')\n",
    "        plt.show()\n",
    "\n",
    "correlation_with_target = df[cont_features].corrwith(df['target']).sort_values(key=abs, ascending=False)\n",
    "example_cont_features = correlation_with_target.head(3).index.tolist()\n",
    "\n",
    "print(\"\\nVisualisierung der Verteilung ausgewählter kontinuierlicher Features:\")\n",
    "for col in example_cont_features:\n",
    "    if col in df.columns:\n",
    "        plt.figure(figsize=theme.FIGSIZE_SMALL)\n",
    "        sns.kdeplot(data=df, x=col, hue='target', fill=True, common_norm=False)\n",
    "        plt.title(f'Verteilung von {col} nach Zielvariable')\n",
    "        plt.xlabel(col)\n",
    "        plt.ylabel('Dichte')\n",
    "        plt.show()"
   ]
  },
  {
   "metadata": {},
   "cell_type": "code",
   "outputs": [],
   "execution_count": null,
   "source": [
    "import missingno as msno\n",
    "\n",
    "missing_value_columns = df.columns[df.isnull().any()].tolist()\n",
    "df_missing = df[missing_value_columns]\n",
    "\n",
    "msno.bar(df_missing,\n",
    "         figsize=theme.FIGSIZE_SMALL,\n",
    "         labels=True)\n",
    "plt.title('Visualisierung fehlender Daten', fontsize=theme.TITLE_FONTSIZE)\n",
    "plt.show()\n",
    "\n",
    "plt.figure(figsize=theme.FIGSIZE_SMALL)\n",
    "sns.barplot(x=missing_values_percentage.index, y=missing_values_percentage.values)\n",
    "plt.xticks(rotation=90)\n",
    "plt.title('Prozentualer Anteil fehlender Werte pro Spalte', fontsize=theme.TITLE_FONTSIZE)\n",
    "plt.xlabel('Spalten', fontsize=theme.LABEL_FONTSIZE)\n",
    "plt.ylabel('Fehlende Werte (%)', fontsize=theme.LABEL_FONTSIZE)\n",
    "plt.show()"
   ]
  },
  {
   "metadata": {},
   "cell_type": "markdown",
   "source": [
    "#### Observations\n",
    "for ps_car_03_cat a critical number of values are missing (69%). Also ps_car_05_cat has almos 45% missing. These variables should be interpreted with caution."
   ]
  },
  {
   "metadata": {},
   "cell_type": "code",
   "outputs": [],
   "execution_count": null,
   "source": [
    "# correlation of Missing Values\n",
    "msno.heatmap(df_missing,figsize=theme.FIGSIZE_SMALL)\n",
    "plt.show()"
   ]
  },
  {
   "metadata": {},
   "cell_type": "markdown",
   "source": [
    "#### Observations\n",
    "ps_car_01_cat and ps_ind_04_cat show a very high correlation of missing values, meaning that if one value is missing in a case the other one will probably also be missing.\n",
    "High correlation (>= 0.5) are also seen in the following pairs:\n",
    "ps_car_09_cat & ps_ind_05_cat\n",
    "ps_ind_04_cat & ps_ind_02_cat\n",
    "ps_car_05_cat & ps_car_03_cat\n",
    "ps_car_01_cat & ps_ind_02_cat\n",
    "\n"
   ]
  },
  {
   "metadata": {},
   "cell_type": "code",
   "outputs": [],
   "execution_count": null,
   "source": [
    "# Verteilung der Spalten von fehlenden Werten\n",
    "sorted_data = msno.nullity_sort(df_missing, sort='descending')\n",
    "msno.matrix(sorted_data, figsize=(20,8), fontsize=14, color=(0.25, 0.25, 0.25));"
   ]
  },
  {
   "metadata": {},
   "cell_type": "markdown",
   "source": ""
  },
  {
   "metadata": {},
   "cell_type": "markdown",
   "source": [
    "#### observations\n",
    "in all the dataset one case does not have more than 8 missing values in total."
   ]
  },
  {
   "metadata": {},
   "cell_type": "markdown",
   "source": "### Numerical datatypes"
  },
  {
   "metadata": {},
   "cell_type": "code",
   "outputs": [],
   "execution_count": null,
   "source": [
    "# define numeric variables\n",
    "numeric_columns = df.select_dtypes(include=\"number\").columns\n",
    "\n",
    "df[numeric_columns].agg([\"min\",\"max\",\"mean\",\"median\"])\n"
   ]
  },
  {
   "metadata": {},
   "cell_type": "markdown",
   "source": [
    "#### Observations\n",
    "ps_ind_14: Median is 0 and mean is almost 0 too\n",
    "ps_car_11: median equlas the maximum\n",
    "-> these variables probably show littlte information\n",
    "\n",
    "For some variables the mean and the median are very close to the maximum or minimum (for example ps_ind_01; ps_reg_03; ps_car_15; ps_calc_05)"
   ]
  },
  {
   "metadata": {},
   "cell_type": "code",
   "outputs": [],
   "execution_count": null,
   "source": [
    "# visualization\n",
    "fig, axes = plt.subplots(26, 1, figsize = (8,52))\n",
    "\n",
    "for ax, name in zip(axes, numeric_columns):\n",
    "    df[name].plot.kde(ax=ax, legend=True)"
   ]
  },
  {
   "metadata": {},
   "cell_type": "markdown",
   "source": [
    "#### observations\n",
    "ps_ind_14: all data are seem to be 0\n",
    "ps_calc_01: data are distributed evenly\n",
    "ps_calc_02: data are distributed evenly\n",
    "ps_calc_03: data are distributed evenly\n",
    "-> seem to carry very little information\n"
   ]
  },
  {
   "metadata": {},
   "cell_type": "code",
   "outputs": [],
   "execution_count": null,
   "source": [
    "# a closer look on those variables\n",
    "df['ps_ind_14'].value_counts()"
   ]
  },
  {
   "metadata": {},
   "cell_type": "code",
   "outputs": [],
   "execution_count": null,
   "source": [
    "# a closer look on those variables:\n",
    "columns = ['ps_calc_01','ps_calc_02', 'ps_calc_03']\n",
    "\n",
    "vc_table = pd.concat(\n",
    "    [df[col].value_counts().rename(col) for col in columns],\n",
    "    axis=1\n",
    ")\n",
    "\n",
    "vc_table.fillna(0).astype(int)"
   ]
  },
  {
   "metadata": {},
   "cell_type": "code",
   "outputs": [],
   "execution_count": null,
   "source": [
    "# interaction with target variable\n",
    "fig, axes = plt.subplots(13, 2, figsize=(10, 52))\n",
    "\n",
    "for ax, name in zip(axes.ravel(), numeric_columns):\n",
    "    sns.violinplot(df, x=name, hue=\"claims\", ax=ax)\n"
   ]
  },
  {
   "metadata": {},
   "cell_type": "markdown",
   "source": [
    "#### Observations\n",
    "All variables don´t seem to differ very good between drivers who filed a claim and those who didn´t. Especially for the calc-variables the distributions show very little or no differences at all."
   ]
  },
  {
   "metadata": {},
   "cell_type": "code",
   "outputs": [],
   "execution_count": null,
   "source": [
    "# visualize the correlation\n",
    "sns.heatmap(df.select_dtypes(\"number\").corr(), cmap=\"viridis\")"
   ]
  },
  {
   "metadata": {},
   "cell_type": "markdown",
   "source": [
    "#### Observations\n",
    "All variables with calc seem to have no interactions with the other numerical varaibles. This may be the reason they got excluded from the models in kaggle."
   ]
  },
  {
   "metadata": {},
   "cell_type": "code",
   "outputs": [],
   "execution_count": null,
   "source": [
    "filtered_df = df.select_dtypes(\"number\").loc[:, df.select_dtypes(\"number\").columns.str.contains(\"calc\")]\n",
    "sns.heatmap(filtered_df.corr(), cmap=\"viridis\", annot=True,fmt=\".2f\")"
   ]
  },
  {
   "metadata": {},
   "cell_type": "markdown",
   "source": "the correlation matrix shows, that the correlation of all the calc variables are at least near 0."
  },
  {
   "metadata": {},
   "cell_type": "code",
   "outputs": [],
   "execution_count": null,
   "source": [
    "# all variables without calc\n",
    "filtered_df = df.select_dtypes(\"number\").loc[:, ~df.select_dtypes(\"number\").columns.str.contains(\"calc\")]\n",
    "sns.heatmap(filtered_df.corr(), cmap=\"viridis\", annot=True,fmt=\".2f\")"
   ]
  },
  {
   "metadata": {},
   "cell_type": "markdown",
   "source": [
    "#### observations\n",
    "some of the variables show high correlations, while most of them have little interactions.\n",
    "ps_reg_02 & ps_reg_03 and ps_car_12 & ps_car_13 seem to have the highest correlations."
   ]
  },
  {
   "metadata": {},
   "cell_type": "markdown",
   "source": "### Categorical variables"
  },
  {
   "metadata": {},
   "cell_type": "markdown",
   "source": [
    "(\n",
    "  df.select_dtypes(\"object\")\n",
    "  .drop(columns=[\"claims\"])\n",
    "  .apply(lambda s: s.value_counts().shape[0])\n",
    "  .sort_values()\n",
    "  .plot.barh(xlabel = \"number of categories\")\n",
    ")"
   ]
  },
  {
   "metadata": {},
   "cell_type": "code",
   "outputs": [],
   "execution_count": null,
   "source": [
    "# number of Categories\n",
    "(\n",
    "  df.select_dtypes(\"category\")\n",
    "  .drop(columns=[\"claims\"])\n",
    "  .apply(lambda s: s.value_counts().shape[0])\n",
    "  .sort_values()\n",
    "  .plot.barh(xlabel = \"number of categories\")\n",
    ")"
   ]
  },
  {
   "metadata": {},
   "cell_type": "markdown",
   "source": "The first 8 variables have more than two variables all the other seem to be dichotom. The variable \"ps_car_11-cat\" has a lot more categories than the others."
  },
  {
   "metadata": {},
   "cell_type": "code",
   "outputs": [],
   "execution_count": null,
   "source": [
    "# distribution of traget variable\n",
    "plt.figure(figsize=(15,8))\n",
    "\n",
    "ax = sns.countplot(x = 'claims', data=df)\n",
    "for p in ax.patches:\n",
    "    ax.annotate('{:.2f}%'.format(100*p.get_height()/len(df['claims'])),\n",
    "                (p.get_x() + 0.3, p.get_height() + 10000))"
   ]
  },
  {
   "metadata": {},
   "cell_type": "markdown",
   "source": "only 3.7 % of the drivers filed a claim, that makes it very difficult to predict the probability."
  },
  {
   "metadata": {},
   "cell_type": "code",
   "outputs": [],
   "execution_count": null,
   "source": [
    "# categories of the variable with many categories\n",
    "df[\"ps_car_11_cat\"].value_counts()"
   ]
  },
  {
   "metadata": {},
   "cell_type": "markdown",
   "source": "There are 104 categories for this variable but all seem to be filled with at least 1100 cases."
  },
  {
   "metadata": {},
   "cell_type": "code",
   "outputs": [],
   "execution_count": null,
   "source": [
    "# Values count of all categorical variables\n",
    "categorical_columns = df.select_dtypes(include=\"category\").drop(columns=[\"claims\"]).columns\n",
    "\n",
    "fig, axes = plt.subplots(11, 3, figsize=(15, 22), layout=\"constrained\")\n",
    "\n",
    "for ax, colname in zip(axes.flat, categorical_columns):\n",
    "    (\n",
    "        df[colname]\n",
    "        .value_counts(dropna = False)\n",
    "        .plot.barh(ax=ax, title=colname)\n",
    "    )"
   ]
  },
  {
   "metadata": {},
   "cell_type": "markdown",
   "source": [
    "#### Observations\n",
    "In most of the dichotom variables one of the categories holds a large part of all the data.\n"
   ]
  },
  {
   "metadata": {},
   "cell_type": "code",
   "outputs": [],
   "execution_count": null,
   "source": [
    "# proportions for all binary variables\n",
    "binary_columns = [\n",
    "    col for col in df.columns\n",
    "    if df[col].nunique(dropna=True) == 2\n",
    "]\n",
    "\n",
    "rel_freq_table = pd.DataFrame({\n",
    "    col: df[col].value_counts(normalize=True, dropna = False)\n",
    "    for col in binary_columns\n",
    "}).T\n",
    "\n",
    "rel_freq_table"
   ]
  },
  {
   "metadata": {},
   "cell_type": "markdown",
   "source": [
    "#### observations:\n",
    "ps_ind_10_bin, ps_ind_11_bin, ps_ind_12_bin, ps_ind_13_bin have more than 99% of the cases in one category."
   ]
  },
  {
   "metadata": {},
   "cell_type": "code",
   "outputs": [],
   "execution_count": null,
   "source": [
    "# interaction of binary categories with target variable\n",
    "fig, axes = plt.subplots(8, 3, figsize=(15, 22), layout=\"constrained\")\n",
    "\n",
    "for ax, colname in zip(axes.flat, binary_columns):\n",
    "    (\n",
    "        pd.crosstab(\n",
    "            index=df[colname],\n",
    "            columns=df[\"claims\"]\n",
    "        )\n",
    "        .pipe(lambda df_: df_.div(df_.sum(axis = \"columns\"), axis = \"rows\"))\n",
    "        .plot.barh(stacked=True, title=colname, ax=ax)\n",
    "    )"
   ]
  },
  {
   "metadata": {},
   "cell_type": "code",
   "outputs": [],
   "execution_count": null,
   "source": [
    "# interactions wit ordinal variables and target\n",
    "ordinal_columns = [\"ps_car_01_cat\", \"ps_car_04_cat\", \"ps_car_06_cat\",\n",
    "                             \"ps_car_09_cat\", \"ps_car_10_cat\",\n",
    "                             \"ps_ind_05_cat\", \"ps_ind_02_cat\"]\n",
    "fig, axes = plt.subplots(7,1, figsize=(10, 21), layout=\"constrained\")\n",
    "\n",
    "for ax, colname in zip(axes.flat, ordinal_columns):\n",
    "    (\n",
    "        pd.crosstab(\n",
    "            index=df[colname],\n",
    "            columns=df[\"claims\"]\n",
    "        )\n",
    "        .pipe(lambda df_: df_.div(df_.sum(axis = \"columns\"), axis = \"rows\"))\n",
    "        .plot.barh(stacked=True, title=colname, ax=ax)\n",
    "    )"
   ]
  },
  {
   "metadata": {},
   "cell_type": "code",
   "outputs": [],
   "execution_count": null,
   "source": [
    "# extra plot for ps_car_11_cat\n",
    "(\n",
    "    pd.crosstab(index = df[\"ps_car_11_cat\"], columns = df[\"claims\"])\n",
    "    .pipe(lambda df_: df_.div(df_.sum(axis = \"columns\"), axis = \"rows\"))\n",
    "    .plot.barh(stacked=True, title=\"ps_car_11_cat\", figsize=(10, 21))\n",
    ")\n",
    "\n"
   ]
  },
  {
   "metadata": {},
   "cell_type": "markdown",
   "source": [
    "#### observations\n",
    "no major hints can be observed from this graphs. Somm of the Variables show little differences between the two target-categories, but ome categories seem to show no diffrence at all: ps_ind_09_bin, ps_ind_18_bin, ps_car_05_cat, ps_calc_16_bin, ps_calc_17_bin, ps_calc_18_bin, ps_calc_19_bin, ps_calc_20_bin."
   ]
  },
  {
   "metadata": {},
   "cell_type": "code",
   "outputs": [],
   "execution_count": null,
   "source": [
    "# a closer look on those variables:\n",
    "columns = [\"ps_ind_09_bin\", \"ps_ind_18_bin\", \"ps_car_05_cat\",\n",
    "           \"ps_calc_16_bin\", \"ps_calc_17_bin\", \"ps_calc_18_bin\",\n",
    "           \"ps_calc_19_bin\", \"ps_calc_20_bin\"]\n"
   ]
  }
 ],
 "metadata": {
  "accelerator": "GPU",
  "colab": {
   "authorship_tag": "ABX9TyMYhOk12F3cmFDSmbOHgASz",
   "gpuType": "T4",
   "include_colab_link": true,
   "name": "01_EDA_integrated.ipynb",
   "provenance": []
  },
  "kernelspec": {
   "display_name": "Python 3 (ipykernel)",
   "language": "python",
   "name": "python3"
  },
  "language_info": {
   "codemirror_mode": {
    "name": "ipython",
    "version": 3
   },
   "file_extension": ".py",
   "mimetype": "text/x-python",
   "name": "python",
   "nbconvert_exporter": "python",
   "pygments_lexer": "ipython3",
   "version": "3.12.4"
  }
 },
 "nbformat": 4,
 "nbformat_minor": 4
}
